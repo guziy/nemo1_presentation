{
 "metadata": {
  "name": ""
 },
 "nbformat": 3,
 "nbformat_minor": 0,
 "worksheets": [
  {
   "cells": [
    {
     "cell_type": "markdown",
     "metadata": {
      "slideshow": {
       "slide_type": "slide"
      }
     },
     "source": [
      "NEMO Great Lakes simulations\n",
      "======\n",
      "\n",
      "\n",
      "By: Oleksandr (Sasha) Huziy, Luis Duarte"
     ]
    },
    {
     "cell_type": "markdown",
     "metadata": {
      "slideshow": {
       "slide_type": "slide"
      }
     },
     "source": [
      "Outline\n",
      "=======\n",
      "\n",
      "* Driving data and model configuration\n",
      "\n",
      "\n",
      "* Seasonal climatologies\n",
      "\n",
      "\n",
      "* Vertical structure of lake temperature (which diffusion scheme and coefficients we have to use?)\n",
      "\n",
      "\n",
      "* Validation with observations and analysis\n",
      "\n",
      "\n",
      "* Water flow validation\n",
      "\n",
      "\n",
      "* Ice and river questions"
     ]
    },
    {
     "cell_type": "markdown",
     "metadata": {
      "slideshow": {
       "slide_type": "slide"
      }
     },
     "source": [
      "Configuration summary\n",
      "=====\n",
      "\n",
      "* Horizontal resolution: 0.1 degree, $170\\times90$ gridpoints (Rotated lat/lon projection)\n",
      "\n",
      "\n",
      "* 35 vertical levels with partial steps at the bottom. Level thickness gradually increases from 25 cm at the surface to 30 m at the bottom\n",
      "\n",
      "\n",
      "* Time step: 1 hour"
     ]
    },
    {
     "cell_type": "markdown",
     "metadata": {
      "slideshow": {
       "slide_type": "slide"
      }
     },
     "source": [
      "Physical parameterisations/options that work\n",
      "=======\n",
      "\n",
      "* Surface pressure gradient term is treated by filtering EGWs. (Roullet and Madec 2000, preprocessor key: `key_dynspg_flt`)"
     ]
    },
    {
     "cell_type": "code",
     "collapsed": false,
     "input": [
      "import ipy_table"
     ],
     "language": "python",
     "metadata": {
      "slideshow": {
       "slide_type": "-"
      }
     },
     "outputs": [],
     "prompt_number": 2
    },
    {
     "cell_type": "code",
     "collapsed": false,
     "input": [
      "keys = \"\"\"\n",
      "key_trabbl key_lim2 key_ldfslp key_traldf_c2d  key_dynldf_c3d key_zdftke key_zdfddm  key_glk key_trddyn key_trdtra key_dynspg_flt key_mpp_mpi key_mpp_rep\n",
      "\"\"\"\n",
      "ipy_table.tabulate(keys.split(), 5)"
     ],
     "language": "python",
     "metadata": {},
     "outputs": [
      {
       "html": [
        "<table border=\"1\" cellpadding=\"3\" cellspacing=\"0\"  style=\"border:1px solid black;border-collapse:collapse;\"><tr><td>key_trabbl</td><td>key_lim2</td><td>key_ldfslp</td><td>key_traldf_c2d</td><td>key_dynldf_c3d</td></tr><tr><td>key_zdftke</td><td>key_zdfddm</td><td>key_glk</td><td>key_trddyn</td><td>key_trdtra</td></tr><tr><td>key_dynspg_flt</td><td>key_mpp_mpi</td><td>key_mpp_rep</td><td></td><td></td></tr>"
       ],
       "metadata": {},
       "output_type": "pyout",
       "prompt_number": 3,
       "text": [
        "<IPython.core.display.HTML at 0x104a9f950>"
       ]
      }
     ],
     "prompt_number": 3
    },
    {
     "cell_type": "code",
     "collapsed": false,
     "input": [],
     "language": "python",
     "metadata": {
      "slideshow": {
       "slide_type": "slide"
      }
     },
     "outputs": []
    }
   ],
   "metadata": {}
  }
 ]
}