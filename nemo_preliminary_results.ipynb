{
 "metadata": {
  "name": ""
 },
 "nbformat": 3,
 "nbformat_minor": 0,
 "worksheets": [
  {
   "cells": [
    {
     "cell_type": "markdown",
     "metadata": {
      "slideshow": {
       "slide_type": "slide"
      }
     },
     "source": [
      "NEMO Great Lakes simulations\n",
      "======\n",
      "\n",
      "\n",
      "By: Oleksandr (Sasha) Huziy, Luis Duarte"
     ]
    },
    {
     "cell_type": "markdown",
     "metadata": {
      "slideshow": {
       "slide_type": "slide"
      }
     },
     "source": [
      "Outline\n",
      "=======\n",
      "\n",
      "* Experimental setup and driving data\n",
      "\n",
      "\n",
      "* Seasonal climatologies\n",
      "\n",
      "\n",
      "* SST and SSH timeseries\n",
      "\n",
      "\n",
      "* Validation with observations\n",
      "\n",
      "\n",
      "* Vertical structure of lake temperature\n",
      "\n",
      "\n",
      "* Ice and river questions"
     ]
    },
    {
     "cell_type": "markdown",
     "metadata": {
      "slideshow": {
       "slide_type": "slide"
      }
     },
     "source": [
      "Configuration summary\n",
      "=====\n",
      "\n",
      "* Horizontal resolution: 0.1 degree, $170\\times90$ gridpoints (Rotated lat/lon projection)\n",
      "\n",
      "\n",
      "* 35 vertical levels with partial steps at the bottom. Level thickness gradually increases from 25 cm at the surface to 30 m at the bottom\n",
      "\n",
      "\n",
      "* Time step: 1 hour (Scaled accordingly following Dupont et al 2012, who used 600 s at 2km horizontal resolution)\n",
      "\n",
      "\n",
      "* Model version: 3.4"
     ]
    },
    {
     "cell_type": "markdown",
     "metadata": {
      "slideshow": {
       "slide_type": "slide"
      }
     },
     "source": [
      "<div>\n",
      "<img src=\"files/images/test_fwb_my/bathy_meter.svg\"/>\n",
      "</div>\n",
      "\n",
      "##Fig: Simulation domain and Bathymetry"
     ]
    },
    {
     "cell_type": "markdown",
     "metadata": {
      "slideshow": {
       "slide_type": "slide"
      }
     },
     "source": [
      "Physical parameterisations/options that work for us\n",
      "=======\n",
      "\n",
      "* Surface pressure gradient term is treated by filtering EGWs. \n",
      "    \n",
      "    (**Roullet and Madec 2000**, preprocessor key: `key_dynspg_flt`)\n",
      "\n",
      "\n",
      "* Fresh water fluxes are corrected in a way that mean annual fresh water flux is 0. \n",
      "   \n",
      "    $$E-P-R = 0$$\n",
      "\n",
      "\n",
      "* The list of keys used to compile the model.\n",
      "<table>\n",
      "<tr><td>key_trabbl</td> <td><b> key_lim2 </b> </td> <td>key_ldfslp </td> </tr> \n",
      "<tr><td><i>key_dynldf_c3d</i> </td> <td>key_zdftke</td> <td>key_zdfddm</td> </tr>\n",
      "<tr>  <td> <b> key_dynspg_flt</b></td> <td><i>key_traldf_c2d</i></td> </tr> \n",
      "</table>"
     ]
    },
    {
     "cell_type": "markdown",
     "metadata": {
      "slideshow": {
       "slide_type": "slide"
      }
     },
     "source": [
      "Relevant namelist parameters\n",
      "====\n",
      "\n",
      "* TVD scheme used for tracer advection\n",
      "\n",
      "\n",
      "* lateral diffusion scheme for tracers\n",
      "    \n",
      "    * laplacian operator\n",
      "    \n",
      "    * **rn_aht_0         =  2.5**    !  horizontal eddy diffusivity for tracers $[{\\rm m^2/s}]$\n",
      "    \n",
      "    \n",
      "* lateral diffusion on momentum\n",
      "\n",
      "    * laplacian operator\n",
      "\n",
      "    * **rn_ahm_0_lap     = 50.0**    !  horizontal laplacian eddy viscosity   $[{\\rm m^2/s}]$\n",
      "    \n",
      "    "
     ]
    },
    {
     "cell_type": "markdown",
     "metadata": {
      "slideshow": {
       "slide_type": "slide"
      }
     },
     "source": [
      "Driving data\n",
      "===\n",
      "\n",
      "* [DFS5.2](http://www.drakkar-ocean.eu/publications/reports/dfs5-1-report) (Drakkar Forcing Set) available for 1958-2012\n",
      "\n",
      "\n",
      "* Variables:\n",
      "    \n",
      "    * **wind** components at 10 m, 3-hourly\n",
      "        \n",
      "    * **temperature and humidity** of air at 2m, 3-hourly\n",
      "        \n",
      "    * **Longwave and shortwave radiation** fluxes, daily\n",
      "        \n",
      "    * **Snowrate and precipitation**, daily\n"
     ]
    },
    {
     "cell_type": "markdown",
     "metadata": {
      "slideshow": {
       "slide_type": "subslide"
      }
     },
     "source": [
      "Driving data: wind at 10m [m/s]\n",
      "====\n",
      "\n",
      "<img src=\"files/images/test_fwb_my/sowindsp_djf-mam-jja-son.jpeg\">"
     ]
    },
    {
     "cell_type": "markdown",
     "metadata": {
      "slideshow": {
       "slide_type": "slide"
      }
     },
     "source": [
      "Simulated seasonal SST\n",
      "=====\n",
      "\n",
      "<img src=\"files/images/test_fwb_my/sosstsst_djf-mam-jja-son.jpeg\">\n"
     ]
    },
    {
     "cell_type": "markdown",
     "metadata": {
      "slideshow": {
       "slide_type": "slide"
      }
     },
     "source": [
      "Ice fraction\n",
      "=====\n",
      "\n",
      "<img src=\"files/images/test_fwb_my/soicecov_djf-mam-jja-son.jpeg\"/>"
     ]
    },
    {
     "cell_type": "markdown",
     "metadata": {
      "slideshow": {
       "slide_type": "slide"
      }
     },
     "source": [
      "Mixed layer depth\n",
      "=====\n",
      "\n",
      "<img src=\"files/images/test_fwb_my/somxl010_djf-mam-jja-son.jpeg\"/>"
     ]
    },
    {
     "cell_type": "markdown",
     "metadata": {
      "slideshow": {
       "slide_type": "slide"
      }
     },
     "source": [
      "Simulated Annual mean surface velocities\n",
      "====\n",
      "\n",
      "<img src=\"files/images/test_fwb_my/vozocrtx-vomecrty_annual.jpeg\"/>\n",
      "\n"
     ]
    },
    {
     "cell_type": "markdown",
     "metadata": {
      "slideshow": {
       "slide_type": "subslide"
      }
     },
     "source": [
      "Simulated seasonal surface velocities (DJF)\n",
      "====\n",
      "\n",
      "<img src=\"files/images/test_fwb_my/vozocrtx-vomecrty_djf.jpeg\"/>"
     ]
    },
    {
     "cell_type": "markdown",
     "metadata": {
      "slideshow": {
       "slide_type": "subslide"
      }
     },
     "source": [
      "Simulated seasonal surface velocities (MAM)\n",
      "====\n",
      "\n",
      "<img src=\"files/images/test_fwb_my/vozocrtx-vomecrty_mam.jpeg\"/>"
     ]
    },
    {
     "cell_type": "markdown",
     "metadata": {
      "slideshow": {
       "slide_type": "subslide"
      }
     },
     "source": [
      "Simulated seasonal surface velocities (JJA)\n",
      "====\n",
      "\n",
      "<img src=\"files/images/test_fwb_my/vozocrtx-vomecrty_jja.jpeg\"/>"
     ]
    },
    {
     "cell_type": "markdown",
     "metadata": {
      "slideshow": {
       "slide_type": "subslide"
      }
     },
     "source": [
      "Simulated seasonal surface velocities (SON)\n",
      "====\n",
      "\n",
      "<img src=\"files/images/test_fwb_my/vozocrtx-vomecrty_son.jpeg\"/>"
     ]
    },
    {
     "cell_type": "markdown",
     "metadata": {
      "slideshow": {
       "slide_type": "slide"
      }
     },
     "source": [
      "Temperature (spinup)\n",
      "======\n",
      "\n",
      "<img src=\"files/images/test_fwb_my/1d/ts_sosstsst_50_65_10_10.jpeg\" />"
     ]
    },
    {
     "cell_type": "markdown",
     "metadata": {
      "slideshow": {
       "slide_type": "subslide"
      }
     },
     "source": [
      "Ice fraction\n",
      "========\n",
      "\n",
      "<img src=\"files/images/test_fwb_my/1d/ts_soicecov_50_65_10_10.jpeg\" />"
     ]
    },
    {
     "cell_type": "markdown",
     "metadata": {
      "slideshow": {
       "slide_type": "subslide"
      }
     },
     "source": [
      "Sea surface height (timeseries, spinup using climatological forcing)\n",
      "====\n",
      "\n",
      "<img src=\"files/images/test_fwb_my/1d/ts_sossheig_50_65_10_10.jpeg\" />"
     ]
    },
    {
     "cell_type": "markdown",
     "metadata": {
      "slideshow": {
       "slide_type": "slide"
      }
     },
     "source": [
      "<div class=\"thanks\">\n",
      "    <nobr>Thank you for your attention!!</nobr>\n",
      "</div>"
     ]
    }
   ],
   "metadata": {}
  }
 ]
}